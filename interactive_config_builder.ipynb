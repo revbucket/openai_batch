{
 "cells": [
  {
   "cell_type": "code",
   "execution_count": null,
   "id": "d4be46b9-25a7-4cb1-a2b8-84656f64ca1c",
   "metadata": {},
   "outputs": [],
   "source": [
    "\"\"\"\n",
    "Interactive prompt and setup builder\n",
    "\"\"\"\n",
    "from  openai_batch import *\n",
    "from batch_config import OpenAIBatchConfig\n",
    "import json\n"
   ]
  },
  {
   "cell_type": "code",
   "execution_count": null,
   "id": "f31f0622-39d5-403b-8d12-1f2a68f2558b",
   "metadata": {},
   "outputs": [],
   "source": [
    "response_schema = make_response_schema([('answer', 'integer', 'The answer to the mathematical question posed in the prompt.')])\n",
    "response_schema"
   ]
  },
  {
   "cell_type": "code",
   "execution_count": null,
   "id": "5ac0a793-6acf-4cb1-996f-95cc2794c79f",
   "metadata": {},
   "outputs": [],
   "source": [
    "config_dict = {\n",
    "    'files': ['experiments/example/input_data'],\n",
    "    'prompt': ['What follows is a simple mathematical question. Please answer it in an integer format and output nothing else. Populate the answer in the \"answer\" field in the structured output.\\n', \"\"],\n",
    "    'output_dir': 'experiments/example/output_data',\n",
    "    'merge_dir': 'experiments/example/merge_data',\n",
    "    'response_format': response_schema,\n",
    "    'max_tokens': 128    \n",
    "}\n",
    "config_dict"
   ]
  },
  {
   "cell_type": "code",
   "execution_count": null,
   "id": "6e0c5466-de18-43bb-ac64-7080428710ee",
   "metadata": {},
   "outputs": [],
   "source": [
    "with open('experiments/example/config.json', 'w') as f:\n",
    "    json.dump(config_dict, f, indent=2)"
   ]
  },
  {
   "cell_type": "code",
   "execution_count": null,
   "id": "7e68d582-94c8-4cf7-93b5-3b91092f7d7c",
   "metadata": {},
   "outputs": [],
   "source": []
  }
 ],
 "metadata": {
  "kernelspec": {
   "display_name": "py310",
   "language": "python",
   "name": "py310"
  },
  "language_info": {
   "codemirror_mode": {
    "name": "ipython",
    "version": 3
   },
   "file_extension": ".py",
   "mimetype": "text/x-python",
   "name": "python",
   "nbconvert_exporter": "python",
   "pygments_lexer": "ipython3",
   "version": "3.10.15"
  }
 },
 "nbformat": 4,
 "nbformat_minor": 5
}
